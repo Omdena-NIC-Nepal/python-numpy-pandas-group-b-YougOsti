{
 "cells": [
  {
   "cell_type": "markdown",
   "id": "8aeaa5eb-9697-478b-bbbf-a6aa595f7747",
   "metadata": {},
   "source": [
    "## Create an array of 10 zeros but set the fifth element to 1"
   ]
  },
  {
   "cell_type": "code",
   "execution_count": 3,
   "id": "9b52db0f-8415-4e95-a7e6-5a42dfd3ffa6",
   "metadata": {},
   "outputs": [
    {
     "data": {
      "text/plain": [
       "array([0., 0., 0., 0., 1., 0., 0., 0., 0., 0.])"
      ]
     },
     "execution_count": 3,
     "metadata": {},
     "output_type": "execute_result"
    }
   ],
   "source": [
    "import numpy as np\n",
    "my_array = np.zeros(10)\n",
    "my_array[4] = 1\n",
    "   \n",
    "    \n",
    "my_array\n"
   ]
  },
  {
   "cell_type": "markdown",
   "id": "971646c5-8988-4fb5-919c-4abbbe3096cf",
   "metadata": {},
   "source": [
    "### Create a 4x4 matrix with values ranging from 0 to 15."
   ]
  },
  {
   "cell_type": "code",
   "execution_count": 7,
   "id": "ac13252e-2fad-431b-b377-410545553abd",
   "metadata": {},
   "outputs": [
    {
     "data": {
      "text/plain": [
       "array([[ 0,  1,  2,  3],\n",
       "       [ 4,  5,  6,  7],\n",
       "       [ 8,  9, 10, 11],\n",
       "       [12, 13, 14, 15]])"
      ]
     },
     "execution_count": 7,
     "metadata": {},
     "output_type": "execute_result"
    }
   ],
   "source": [
    "my_matrix = np.arange(16).reshape (4,4)\n",
    "\n",
    "\n",
    "my_matrix\n"
   ]
  },
  {
   "cell_type": "markdown",
   "id": "7a3b9b02-ee3a-4711-a5cf-727e3730738c",
   "metadata": {},
   "source": [
    "### Array Operations¶"
   ]
  },
  {
   "cell_type": "code",
   "execution_count": null,
   "id": "27325e01-0d60-44b2-b285-6b92980ea753",
   "metadata": {},
   "outputs": [],
   "source": [
    "\n",
    "3. Create two NumPy arrays: Perform element-wise addition, subtraction, multiplication, and division.\n",
    "arr1: array([[41, 30, 10], [ 6, 35, 23], [23, 9, 10]])\n",
    "arr2: array([[4, 29, 2], [5, 13, 3], [24, 16, 7]])"
   ]
  },
  {
   "cell_type": "code",
   "execution_count": null,
   "id": "cff0b13e-b734-4615-8295-aa725848b391",
   "metadata": {},
   "outputs": [],
   "source": [
    "# solution\n",
    "# addition: arr1 + arr2\n",
    "\n",
    "# subtraction: arr1 - arr2 \n",
    "\n",
    "# division: arr1 / arr2\n",
    "\n",
    "# multiplication: arr1 * arr2"
   ]
  },
  {
   "cell_type": "code",
   "execution_count": 7,
   "id": "b943720d-c982-4a21-afa4-bda96c3e6c4f",
   "metadata": {},
   "outputs": [
    {
     "name": "stdout",
     "output_type": "stream",
     "text": [
      "[array([[45, 59, 12],\n",
      "       [11, 48, 26],\n",
      "       [47, 25, 17]])]\n",
      "[array([[37,  1,  8],\n",
      "       [ 1, 22, 20],\n",
      "       [-1, -7,  3]])]\n",
      "[array([[164, 870,  20],\n",
      "       [ 30, 455,  69],\n",
      "       [552, 144,  70]])]\n",
      "[array([[10.25      ,  1.03448276,  5.        ],\n",
      "       [ 1.2       ,  2.69230769,  7.66666667],\n",
      "       [ 0.95833333,  0.5625    ,  1.42857143]])]\n"
     ]
    }
   ],
   "source": [
    "import numpy as np\n",
    "arr1 = np.array([[41, 30, 10], [ 6, 35, 23], [23, 9, 10]])\n",
    "arr2 = np.array([[4, 29, 2], [5, 13, 3], [24, 16, 7]])\n",
    "sum_arr = ([arr1 + arr2])\n",
    "diff_arr = ([arr1 - arr2])\n",
    "product_arr = ([arr1 * arr2])\n",
    "div_arr = ([arr1 / arr2])\n",
    "print(sum_arr)\n",
    "print(diff_arr)\n",
    "print(product_arr)\n",
    "print(div_arr)"
   ]
  },
  {
   "cell_type": "markdown",
   "id": "54d1345c-f02c-4b01-977f-82e74b70c992",
   "metadata": {},
   "source": [
    "### Array Slicing"
   ]
  },
  {
   "cell_type": "code",
   "execution_count": null,
   "id": "c527d1f2-61f2-47ce-9e84-fe2a957a5eb6",
   "metadata": {},
   "outputs": [],
   "source": [
    "\n",
    "4. Given the array:\n",
    "arr = np.array([10, 20, 30, 40, 50, 60, 70, 80, 90, 100])\n",
    "Extract elements from index 2 to 6."
   ]
  },
  {
   "cell_type": "code",
   "execution_count": 23,
   "id": "5de8ed56-c738-4d0a-b5fb-50e71ee0510c",
   "metadata": {},
   "outputs": [
    {
     "name": "stdout",
     "output_type": "stream",
     "text": [
      "[30 40 50 60 70]\n"
     ]
    }
   ],
   "source": [
    "arr2 = np.array([10, 20, 30, 40, 50, 60, 70, 80, 90, 100])\n",
    "sliced = arr2[2:7]\n",
    "print(sliced)"
   ]
  },
  {
   "cell_type": "markdown",
   "id": "83168b47-b8f3-4264-9615-ca38e5d4ee75",
   "metadata": {},
   "source": [
    "### Using NumPy Methods"
   ]
  },
  {
   "cell_type": "code",
   "execution_count": null,
   "id": "a0d11df0-2e50-41af-8e67-304fb2be19eb",
   "metadata": {},
   "outputs": [],
   "source": [
    "Using NumPy Methods¶\n",
    "5. Convert the array below to a 3×3 NumPy array.\n",
    "array([[15, 18, 20], [15, 30, 8], [25, 30, 60]])\n",
    "Find the mean, sum, and maximum value."
   ]
  },
  {
   "cell_type": "code",
   "execution_count": 35,
   "id": "88e530e1-ef5a-4cc1-adcf-591ab5427909",
   "metadata": {},
   "outputs": [
    {
     "name": "stdout",
     "output_type": "stream",
     "text": [
      "[[15 18 20]\n",
      " [15 30  8]\n",
      " [25 30 60]]\n",
      "24.56\n",
      "221\n",
      "60\n"
     ]
    }
   ],
   "source": [
    "arr3 = np.array([[15, 18, 20], [15, 30, 8], [25, 30, 60]])\n",
    "arr3_mean = round(np.mean(arr3), 2)\n",
    "arr3_sum = np.sum(arr3)\n",
    "arr3_max = np.max(arr3)\n",
    "\n",
    "print(arr3)\n",
    "print(arr3_mean) # Mean rounded to two decimal points\n",
    "print(arr3_sum)\n",
    "print(arr3_max)"
   ]
  },
  {
   "cell_type": "markdown",
   "id": "617b4814-348f-42f0-b980-98fdfd637fed",
   "metadata": {},
   "source": [
    "# Task 2: Pandas Basics"
   ]
  },
  {
   "cell_type": "markdown",
   "id": "c29307ea-c269-4211-8e13-aa44ea1f3e23",
   "metadata": {},
   "source": [
    "### Creating a Pandas Series"
   ]
  },
  {
   "cell_type": "code",
   "execution_count": null,
   "id": "44080ed8-399b-40a9-bbb9-50fc87a7a3dd",
   "metadata": {},
   "outputs": [],
   "source": [
    "\n",
    "1. Create a Pandas Series from the list [10, 20, 30, 40, 50] with index labels 'a', 'b', 'c', 'd', 'e'."
   ]
  },
  {
   "cell_type": "code",
   "execution_count": 41,
   "id": "4caa7944-8661-4541-941a-61b5d0f9cd53",
   "metadata": {},
   "outputs": [
    {
     "data": {
      "text/plain": [
       "a    10\n",
       "b    20\n",
       "c    30\n",
       "d    40\n",
       "e    50\n",
       "dtype: int64"
      ]
     },
     "execution_count": 41,
     "metadata": {},
     "output_type": "execute_result"
    }
   ],
   "source": [
    "import pandas as pd\n",
    "series = pd.Series([10, 20, 30, 40, 50], index = ['a', 'b', 'c', 'd', 'e'])\n",
    "series"
   ]
  },
  {
   "cell_type": "markdown",
   "id": "0c66398b-b8b9-4223-8f6b-07e1fadc08f4",
   "metadata": {},
   "source": [
    "### Reading a CSV File"
   ]
  },
  {
   "cell_type": "code",
   "execution_count": null,
   "id": "d042e15a-27ad-40e7-baf1-8ec4a82f1bb8",
   "metadata": {},
   "outputs": [],
   "source": [
    "\n",
    "2. Read a CSV file named \"data.csv\" into a Pandas DataFrame. The CSV file has the following columns: \"Name\", \"Age\", \"Salary\"."
   ]
  },
  {
   "cell_type": "code",
   "execution_count": 75,
   "id": "b676275e-dc21-4477-a8b6-244c3349df73",
   "metadata": {},
   "outputs": [
    {
     "data": {
      "text/html": [
       "<div>\n",
       "<style scoped>\n",
       "    .dataframe tbody tr th:only-of-type {\n",
       "        vertical-align: middle;\n",
       "    }\n",
       "\n",
       "    .dataframe tbody tr th {\n",
       "        vertical-align: top;\n",
       "    }\n",
       "\n",
       "    .dataframe thead th {\n",
       "        text-align: right;\n",
       "    }\n",
       "</style>\n",
       "<table border=\"1\" class=\"dataframe\">\n",
       "  <thead>\n",
       "    <tr style=\"text-align: right;\">\n",
       "      <th></th>\n",
       "      <th>Name</th>\n",
       "      <th>Age</th>\n",
       "      <th>Salary</th>\n",
       "    </tr>\n",
       "  </thead>\n",
       "  <tbody>\n",
       "    <tr>\n",
       "      <th>0</th>\n",
       "      <td>Alice</td>\n",
       "      <td>29</td>\n",
       "      <td>73193</td>\n",
       "    </tr>\n",
       "    <tr>\n",
       "      <th>1</th>\n",
       "      <td>Bob</td>\n",
       "      <td>53</td>\n",
       "      <td>85398</td>\n",
       "    </tr>\n",
       "    <tr>\n",
       "      <th>2</th>\n",
       "      <td>Charlie</td>\n",
       "      <td>36</td>\n",
       "      <td>47162</td>\n",
       "    </tr>\n",
       "    <tr>\n",
       "      <th>3</th>\n",
       "      <td>David</td>\n",
       "      <td>22</td>\n",
       "      <td>65853</td>\n",
       "    </tr>\n",
       "    <tr>\n",
       "      <th>4</th>\n",
       "      <td>Eve</td>\n",
       "      <td>24</td>\n",
       "      <td>36168</td>\n",
       "    </tr>\n",
       "    <tr>\n",
       "      <th>5</th>\n",
       "      <td>Frank</td>\n",
       "      <td>58</td>\n",
       "      <td>69657</td>\n",
       "    </tr>\n",
       "    <tr>\n",
       "      <th>6</th>\n",
       "      <td>Grace</td>\n",
       "      <td>41</td>\n",
       "      <td>85202</td>\n",
       "    </tr>\n",
       "    <tr>\n",
       "      <th>7</th>\n",
       "      <td>Hannah</td>\n",
       "      <td>38</td>\n",
       "      <td>62421</td>\n",
       "    </tr>\n",
       "    <tr>\n",
       "      <th>8</th>\n",
       "      <td>Isaac</td>\n",
       "      <td>50</td>\n",
       "      <td>74641</td>\n",
       "    </tr>\n",
       "    <tr>\n",
       "      <th>9</th>\n",
       "      <td>Jack</td>\n",
       "      <td>47</td>\n",
       "      <td>38963</td>\n",
       "    </tr>\n",
       "    <tr>\n",
       "      <th>10</th>\n",
       "      <td>Karen</td>\n",
       "      <td>34</td>\n",
       "      <td>32136</td>\n",
       "    </tr>\n",
       "    <tr>\n",
       "      <th>11</th>\n",
       "      <td>Leo</td>\n",
       "      <td>49</td>\n",
       "      <td>41874</td>\n",
       "    </tr>\n",
       "    <tr>\n",
       "      <th>12</th>\n",
       "      <td>Mona</td>\n",
       "      <td>56</td>\n",
       "      <td>34070</td>\n",
       "    </tr>\n",
       "    <tr>\n",
       "      <th>13</th>\n",
       "      <td>Nina</td>\n",
       "      <td>49</td>\n",
       "      <td>91734</td>\n",
       "    </tr>\n",
       "    <tr>\n",
       "      <th>14</th>\n",
       "      <td>Oscar</td>\n",
       "      <td>30</td>\n",
       "      <td>89539</td>\n",
       "    </tr>\n",
       "    <tr>\n",
       "      <th>15</th>\n",
       "      <td>Paul</td>\n",
       "      <td>23</td>\n",
       "      <td>78720</td>\n",
       "    </tr>\n",
       "    <tr>\n",
       "      <th>16</th>\n",
       "      <td>Quinn</td>\n",
       "      <td>31</td>\n",
       "      <td>54424</td>\n",
       "    </tr>\n",
       "    <tr>\n",
       "      <th>17</th>\n",
       "      <td>Rachel</td>\n",
       "      <td>54</td>\n",
       "      <td>59900</td>\n",
       "    </tr>\n",
       "    <tr>\n",
       "      <th>18</th>\n",
       "      <td>Steve</td>\n",
       "      <td>36</td>\n",
       "      <td>32163</td>\n",
       "    </tr>\n",
       "    <tr>\n",
       "      <th>19</th>\n",
       "      <td>Tina</td>\n",
       "      <td>56</td>\n",
       "      <td>52054</td>\n",
       "    </tr>\n",
       "  </tbody>\n",
       "</table>\n",
       "</div>"
      ],
      "text/plain": [
       "       Name  Age  Salary\n",
       "0     Alice   29   73193\n",
       "1       Bob   53   85398\n",
       "2   Charlie   36   47162\n",
       "3     David   22   65853\n",
       "4       Eve   24   36168\n",
       "5     Frank   58   69657\n",
       "6     Grace   41   85202\n",
       "7    Hannah   38   62421\n",
       "8     Isaac   50   74641\n",
       "9      Jack   47   38963\n",
       "10    Karen   34   32136\n",
       "11      Leo   49   41874\n",
       "12     Mona   56   34070\n",
       "13     Nina   49   91734\n",
       "14    Oscar   30   89539\n",
       "15     Paul   23   78720\n",
       "16    Quinn   31   54424\n",
       "17   Rachel   54   59900\n",
       "18    Steve   36   32163\n",
       "19     Tina   56   52054"
      ]
     },
     "execution_count": 75,
     "metadata": {},
     "output_type": "execute_result"
    }
   ],
   "source": [
    "df = pd.read_csv(r\"C:\\Users\\youg_\\python-numpy-pandas-group-b-YougOsti\\data\\data.csv\")\n",
    "\n",
    "df"
   ]
  },
  {
   "cell_type": "markdown",
   "id": "eaa001aa-2f75-4ebf-943c-b0c914ca5770",
   "metadata": {},
   "source": [
    "### Slicing a DataFrame"
   ]
  },
  {
   "cell_type": "code",
   "execution_count": null,
   "id": "a5680726-f3a1-4d26-b5f0-b5e9f5a6de41",
   "metadata": {},
   "outputs": [],
   "source": [
    "3. From the DataFrame created in Exercise 2, select only the first three rows."
   ]
  },
  {
   "cell_type": "code",
   "execution_count": 77,
   "id": "ef377d48-c5f4-4b4c-a600-55c43f94f059",
   "metadata": {},
   "outputs": [
    {
     "data": {
      "text/html": [
       "<div>\n",
       "<style scoped>\n",
       "    .dataframe tbody tr th:only-of-type {\n",
       "        vertical-align: middle;\n",
       "    }\n",
       "\n",
       "    .dataframe tbody tr th {\n",
       "        vertical-align: top;\n",
       "    }\n",
       "\n",
       "    .dataframe thead th {\n",
       "        text-align: right;\n",
       "    }\n",
       "</style>\n",
       "<table border=\"1\" class=\"dataframe\">\n",
       "  <thead>\n",
       "    <tr style=\"text-align: right;\">\n",
       "      <th></th>\n",
       "      <th>Name</th>\n",
       "      <th>Age</th>\n",
       "      <th>Salary</th>\n",
       "    </tr>\n",
       "  </thead>\n",
       "  <tbody>\n",
       "    <tr>\n",
       "      <th>0</th>\n",
       "      <td>Alice</td>\n",
       "      <td>29</td>\n",
       "      <td>73193</td>\n",
       "    </tr>\n",
       "    <tr>\n",
       "      <th>1</th>\n",
       "      <td>Bob</td>\n",
       "      <td>53</td>\n",
       "      <td>85398</td>\n",
       "    </tr>\n",
       "    <tr>\n",
       "      <th>2</th>\n",
       "      <td>Charlie</td>\n",
       "      <td>36</td>\n",
       "      <td>47162</td>\n",
       "    </tr>\n",
       "  </tbody>\n",
       "</table>\n",
       "</div>"
      ],
      "text/plain": [
       "      Name  Age  Salary\n",
       "0    Alice   29   73193\n",
       "1      Bob   53   85398\n",
       "2  Charlie   36   47162"
      ]
     },
     "execution_count": 77,
     "metadata": {},
     "output_type": "execute_result"
    }
   ],
   "source": [
    "sliced_df = df.head(3)\n",
    "sliced_df"
   ]
  },
  {
   "cell_type": "markdown",
   "id": "0230afc7-41c4-40e3-8840-02a5071bde1b",
   "metadata": {},
   "source": [
    "### Manipulating a DataFrame - Adding a Column"
   ]
  },
  {
   "cell_type": "code",
   "execution_count": 73,
   "id": "4ade1042-9a78-40fd-bf9c-e965be1b494d",
   "metadata": {},
   "outputs": [],
   "source": [
    "### 4. Add a new column named \"Tax\" to the DataFrame from Exercise 2. The tax should be calculated as 10% of the \"Salary\" column."
   ]
  },
  {
   "cell_type": "code",
   "execution_count": 79,
   "id": "4f6cc99a-58b4-4333-82b5-46b07b77d88c",
   "metadata": {},
   "outputs": [
    {
     "data": {
      "text/html": [
       "<div>\n",
       "<style scoped>\n",
       "    .dataframe tbody tr th:only-of-type {\n",
       "        vertical-align: middle;\n",
       "    }\n",
       "\n",
       "    .dataframe tbody tr th {\n",
       "        vertical-align: top;\n",
       "    }\n",
       "\n",
       "    .dataframe thead th {\n",
       "        text-align: right;\n",
       "    }\n",
       "</style>\n",
       "<table border=\"1\" class=\"dataframe\">\n",
       "  <thead>\n",
       "    <tr style=\"text-align: right;\">\n",
       "      <th></th>\n",
       "      <th>Name</th>\n",
       "      <th>Age</th>\n",
       "      <th>Salary</th>\n",
       "      <th>Tax</th>\n",
       "    </tr>\n",
       "  </thead>\n",
       "  <tbody>\n",
       "    <tr>\n",
       "      <th>0</th>\n",
       "      <td>Alice</td>\n",
       "      <td>29</td>\n",
       "      <td>73193</td>\n",
       "      <td>7319.3</td>\n",
       "    </tr>\n",
       "    <tr>\n",
       "      <th>1</th>\n",
       "      <td>Bob</td>\n",
       "      <td>53</td>\n",
       "      <td>85398</td>\n",
       "      <td>8539.8</td>\n",
       "    </tr>\n",
       "    <tr>\n",
       "      <th>2</th>\n",
       "      <td>Charlie</td>\n",
       "      <td>36</td>\n",
       "      <td>47162</td>\n",
       "      <td>4716.2</td>\n",
       "    </tr>\n",
       "    <tr>\n",
       "      <th>3</th>\n",
       "      <td>David</td>\n",
       "      <td>22</td>\n",
       "      <td>65853</td>\n",
       "      <td>6585.3</td>\n",
       "    </tr>\n",
       "    <tr>\n",
       "      <th>4</th>\n",
       "      <td>Eve</td>\n",
       "      <td>24</td>\n",
       "      <td>36168</td>\n",
       "      <td>3616.8</td>\n",
       "    </tr>\n",
       "    <tr>\n",
       "      <th>5</th>\n",
       "      <td>Frank</td>\n",
       "      <td>58</td>\n",
       "      <td>69657</td>\n",
       "      <td>6965.7</td>\n",
       "    </tr>\n",
       "    <tr>\n",
       "      <th>6</th>\n",
       "      <td>Grace</td>\n",
       "      <td>41</td>\n",
       "      <td>85202</td>\n",
       "      <td>8520.2</td>\n",
       "    </tr>\n",
       "    <tr>\n",
       "      <th>7</th>\n",
       "      <td>Hannah</td>\n",
       "      <td>38</td>\n",
       "      <td>62421</td>\n",
       "      <td>6242.1</td>\n",
       "    </tr>\n",
       "    <tr>\n",
       "      <th>8</th>\n",
       "      <td>Isaac</td>\n",
       "      <td>50</td>\n",
       "      <td>74641</td>\n",
       "      <td>7464.1</td>\n",
       "    </tr>\n",
       "    <tr>\n",
       "      <th>9</th>\n",
       "      <td>Jack</td>\n",
       "      <td>47</td>\n",
       "      <td>38963</td>\n",
       "      <td>3896.3</td>\n",
       "    </tr>\n",
       "    <tr>\n",
       "      <th>10</th>\n",
       "      <td>Karen</td>\n",
       "      <td>34</td>\n",
       "      <td>32136</td>\n",
       "      <td>3213.6</td>\n",
       "    </tr>\n",
       "    <tr>\n",
       "      <th>11</th>\n",
       "      <td>Leo</td>\n",
       "      <td>49</td>\n",
       "      <td>41874</td>\n",
       "      <td>4187.4</td>\n",
       "    </tr>\n",
       "    <tr>\n",
       "      <th>12</th>\n",
       "      <td>Mona</td>\n",
       "      <td>56</td>\n",
       "      <td>34070</td>\n",
       "      <td>3407.0</td>\n",
       "    </tr>\n",
       "    <tr>\n",
       "      <th>13</th>\n",
       "      <td>Nina</td>\n",
       "      <td>49</td>\n",
       "      <td>91734</td>\n",
       "      <td>9173.4</td>\n",
       "    </tr>\n",
       "    <tr>\n",
       "      <th>14</th>\n",
       "      <td>Oscar</td>\n",
       "      <td>30</td>\n",
       "      <td>89539</td>\n",
       "      <td>8953.9</td>\n",
       "    </tr>\n",
       "    <tr>\n",
       "      <th>15</th>\n",
       "      <td>Paul</td>\n",
       "      <td>23</td>\n",
       "      <td>78720</td>\n",
       "      <td>7872.0</td>\n",
       "    </tr>\n",
       "    <tr>\n",
       "      <th>16</th>\n",
       "      <td>Quinn</td>\n",
       "      <td>31</td>\n",
       "      <td>54424</td>\n",
       "      <td>5442.4</td>\n",
       "    </tr>\n",
       "    <tr>\n",
       "      <th>17</th>\n",
       "      <td>Rachel</td>\n",
       "      <td>54</td>\n",
       "      <td>59900</td>\n",
       "      <td>5990.0</td>\n",
       "    </tr>\n",
       "    <tr>\n",
       "      <th>18</th>\n",
       "      <td>Steve</td>\n",
       "      <td>36</td>\n",
       "      <td>32163</td>\n",
       "      <td>3216.3</td>\n",
       "    </tr>\n",
       "    <tr>\n",
       "      <th>19</th>\n",
       "      <td>Tina</td>\n",
       "      <td>56</td>\n",
       "      <td>52054</td>\n",
       "      <td>5205.4</td>\n",
       "    </tr>\n",
       "  </tbody>\n",
       "</table>\n",
       "</div>"
      ],
      "text/plain": [
       "       Name  Age  Salary     Tax\n",
       "0     Alice   29   73193  7319.3\n",
       "1       Bob   53   85398  8539.8\n",
       "2   Charlie   36   47162  4716.2\n",
       "3     David   22   65853  6585.3\n",
       "4       Eve   24   36168  3616.8\n",
       "5     Frank   58   69657  6965.7\n",
       "6     Grace   41   85202  8520.2\n",
       "7    Hannah   38   62421  6242.1\n",
       "8     Isaac   50   74641  7464.1\n",
       "9      Jack   47   38963  3896.3\n",
       "10    Karen   34   32136  3213.6\n",
       "11      Leo   49   41874  4187.4\n",
       "12     Mona   56   34070  3407.0\n",
       "13     Nina   49   91734  9173.4\n",
       "14    Oscar   30   89539  8953.9\n",
       "15     Paul   23   78720  7872.0\n",
       "16    Quinn   31   54424  5442.4\n",
       "17   Rachel   54   59900  5990.0\n",
       "18    Steve   36   32163  3216.3\n",
       "19     Tina   56   52054  5205.4"
      ]
     },
     "execution_count": 79,
     "metadata": {},
     "output_type": "execute_result"
    }
   ],
   "source": [
    "df[\"Tax\"] = df[\"Salary\"] * .10\n",
    "df"
   ]
  },
  {
   "cell_type": "code",
   "execution_count": null,
   "id": "e53ff7fa-3036-4487-9c0d-4686b16256b5",
   "metadata": {},
   "outputs": [],
   "source": [
    "#  Filter the dataframe by the column \"age\" whereby the age is above 36 years"
   ]
  },
  {
   "cell_type": "code",
   "execution_count": 81,
   "id": "ecccd09f-262b-430f-907c-56099d323d78",
   "metadata": {},
   "outputs": [
    {
     "data": {
      "text/html": [
       "<div>\n",
       "<style scoped>\n",
       "    .dataframe tbody tr th:only-of-type {\n",
       "        vertical-align: middle;\n",
       "    }\n",
       "\n",
       "    .dataframe tbody tr th {\n",
       "        vertical-align: top;\n",
       "    }\n",
       "\n",
       "    .dataframe thead th {\n",
       "        text-align: right;\n",
       "    }\n",
       "</style>\n",
       "<table border=\"1\" class=\"dataframe\">\n",
       "  <thead>\n",
       "    <tr style=\"text-align: right;\">\n",
       "      <th></th>\n",
       "      <th>Name</th>\n",
       "      <th>Age</th>\n",
       "      <th>Salary</th>\n",
       "      <th>Tax</th>\n",
       "    </tr>\n",
       "  </thead>\n",
       "  <tbody>\n",
       "    <tr>\n",
       "      <th>1</th>\n",
       "      <td>Bob</td>\n",
       "      <td>53</td>\n",
       "      <td>85398</td>\n",
       "      <td>8539.8</td>\n",
       "    </tr>\n",
       "    <tr>\n",
       "      <th>5</th>\n",
       "      <td>Frank</td>\n",
       "      <td>58</td>\n",
       "      <td>69657</td>\n",
       "      <td>6965.7</td>\n",
       "    </tr>\n",
       "    <tr>\n",
       "      <th>6</th>\n",
       "      <td>Grace</td>\n",
       "      <td>41</td>\n",
       "      <td>85202</td>\n",
       "      <td>8520.2</td>\n",
       "    </tr>\n",
       "    <tr>\n",
       "      <th>7</th>\n",
       "      <td>Hannah</td>\n",
       "      <td>38</td>\n",
       "      <td>62421</td>\n",
       "      <td>6242.1</td>\n",
       "    </tr>\n",
       "    <tr>\n",
       "      <th>8</th>\n",
       "      <td>Isaac</td>\n",
       "      <td>50</td>\n",
       "      <td>74641</td>\n",
       "      <td>7464.1</td>\n",
       "    </tr>\n",
       "    <tr>\n",
       "      <th>9</th>\n",
       "      <td>Jack</td>\n",
       "      <td>47</td>\n",
       "      <td>38963</td>\n",
       "      <td>3896.3</td>\n",
       "    </tr>\n",
       "    <tr>\n",
       "      <th>11</th>\n",
       "      <td>Leo</td>\n",
       "      <td>49</td>\n",
       "      <td>41874</td>\n",
       "      <td>4187.4</td>\n",
       "    </tr>\n",
       "    <tr>\n",
       "      <th>12</th>\n",
       "      <td>Mona</td>\n",
       "      <td>56</td>\n",
       "      <td>34070</td>\n",
       "      <td>3407.0</td>\n",
       "    </tr>\n",
       "    <tr>\n",
       "      <th>13</th>\n",
       "      <td>Nina</td>\n",
       "      <td>49</td>\n",
       "      <td>91734</td>\n",
       "      <td>9173.4</td>\n",
       "    </tr>\n",
       "    <tr>\n",
       "      <th>17</th>\n",
       "      <td>Rachel</td>\n",
       "      <td>54</td>\n",
       "      <td>59900</td>\n",
       "      <td>5990.0</td>\n",
       "    </tr>\n",
       "    <tr>\n",
       "      <th>19</th>\n",
       "      <td>Tina</td>\n",
       "      <td>56</td>\n",
       "      <td>52054</td>\n",
       "      <td>5205.4</td>\n",
       "    </tr>\n",
       "  </tbody>\n",
       "</table>\n",
       "</div>"
      ],
      "text/plain": [
       "      Name  Age  Salary     Tax\n",
       "1      Bob   53   85398  8539.8\n",
       "5    Frank   58   69657  6965.7\n",
       "6    Grace   41   85202  8520.2\n",
       "7   Hannah   38   62421  6242.1\n",
       "8    Isaac   50   74641  7464.1\n",
       "9     Jack   47   38963  3896.3\n",
       "11     Leo   49   41874  4187.4\n",
       "12    Mona   56   34070  3407.0\n",
       "13    Nina   49   91734  9173.4\n",
       "17  Rachel   54   59900  5990.0\n",
       "19    Tina   56   52054  5205.4"
      ]
     },
     "execution_count": 81,
     "metadata": {},
     "output_type": "execute_result"
    }
   ],
   "source": [
    "df.loc[df[\"Age\"] > 36] "
   ]
  },
  {
   "cell_type": "markdown",
   "id": "1964fb20-e84b-4a83-93ec-36f976a37b2c",
   "metadata": {},
   "source": [
    "# Task 3: Data Analysis with Pandas"
   ]
  },
  {
   "cell_type": "code",
   "execution_count": null,
   "id": "a2b68068-ab86-48fd-ae50-a3107ebd6c6c",
   "metadata": {},
   "outputs": [],
   "source": [
    "# Given a dataset of sales transactions, compute the total and mean sales per region"
   ]
  },
  {
   "cell_type": "code",
   "execution_count": 86,
   "id": "74e82418-f98f-40d3-b7eb-75a04207cea2",
   "metadata": {},
   "outputs": [
    {
     "data": {
      "text/html": [
       "<div>\n",
       "<style scoped>\n",
       "    .dataframe tbody tr th:only-of-type {\n",
       "        vertical-align: middle;\n",
       "    }\n",
       "\n",
       "    .dataframe tbody tr th {\n",
       "        vertical-align: top;\n",
       "    }\n",
       "\n",
       "    .dataframe thead th {\n",
       "        text-align: right;\n",
       "    }\n",
       "</style>\n",
       "<table border=\"1\" class=\"dataframe\">\n",
       "  <thead>\n",
       "    <tr style=\"text-align: right;\">\n",
       "      <th></th>\n",
       "      <th>Region</th>\n",
       "      <th>Sales</th>\n",
       "    </tr>\n",
       "  </thead>\n",
       "  <tbody>\n",
       "    <tr>\n",
       "      <th>0</th>\n",
       "      <td>North</td>\n",
       "      <td>1000</td>\n",
       "    </tr>\n",
       "    <tr>\n",
       "      <th>1</th>\n",
       "      <td>South</td>\n",
       "      <td>1500</td>\n",
       "    </tr>\n",
       "    <tr>\n",
       "      <th>2</th>\n",
       "      <td>North</td>\n",
       "      <td>1200</td>\n",
       "    </tr>\n",
       "    <tr>\n",
       "      <th>3</th>\n",
       "      <td>West</td>\n",
       "      <td>1800</td>\n",
       "    </tr>\n",
       "    <tr>\n",
       "      <th>4</th>\n",
       "      <td>South</td>\n",
       "      <td>1300</td>\n",
       "    </tr>\n",
       "    <tr>\n",
       "      <th>5</th>\n",
       "      <td>West</td>\n",
       "      <td>1700</td>\n",
       "    </tr>\n",
       "  </tbody>\n",
       "</table>\n",
       "</div>"
      ],
      "text/plain": [
       "  Region  Sales\n",
       "0  North   1000\n",
       "1  South   1500\n",
       "2  North   1200\n",
       "3   West   1800\n",
       "4  South   1300\n",
       "5   West   1700"
      ]
     },
     "execution_count": 86,
     "metadata": {},
     "output_type": "execute_result"
    }
   ],
   "source": [
    "# Sample Data\n",
    "sales_data = pd.DataFrame({\n",
    "    \"Region\": [\"North\", \"South\", \"North\", \"West\", \"South\", \"West\"],\n",
    "    \"Sales\": [1000, 1500, 1200, 1800, 1300, 1700]\n",
    "})\n",
    "sales_data"
   ]
  },
  {
   "cell_type": "code",
   "execution_count": 88,
   "id": "1eef85b3-6cc7-47f4-95bd-0e3e8323f747",
   "metadata": {},
   "outputs": [
    {
     "name": "stdout",
     "output_type": "stream",
     "text": [
      "        Total Sales  Mean Sales\n",
      "Region                         \n",
      "North          2200      1100.0\n",
      "South          2800      1400.0\n",
      "West           3500      1750.0\n"
     ]
    }
   ],
   "source": [
    "# Regionwise Total and Mean Sales \n",
    "sales_summary = sales_data.groupby(\"Region\")[\"Sales\"].sum().to_frame(name=\"Total Sales\")\n",
    "sales_summary[\"Mean Sales\"] = sales_data.groupby(\"Region\")[\"Sales\"].mean()\n",
    "print(sales_summary)\n"
   ]
  },
  {
   "cell_type": "markdown",
   "id": "1591dbd8-4c6f-4970-9347-8e9322bfead4",
   "metadata": {},
   "source": [
    "### Merging - Combine Customer and Order Data"
   ]
  },
  {
   "cell_type": "code",
   "execution_count": null,
   "id": "4785dff5-af52-406d-a23e-55e7b6fca351",
   "metadata": {},
   "outputs": [],
   "source": [
    "2. Merge customers and orders data based on CustomerID"
   ]
  },
  {
   "cell_type": "code",
   "execution_count": 97,
   "id": "2825ed29-2c1c-44f1-a18d-39ba1ea20ce7",
   "metadata": {},
   "outputs": [
    {
     "data": {
      "text/html": [
       "<div>\n",
       "<style scoped>\n",
       "    .dataframe tbody tr th:only-of-type {\n",
       "        vertical-align: middle;\n",
       "    }\n",
       "\n",
       "    .dataframe tbody tr th {\n",
       "        vertical-align: top;\n",
       "    }\n",
       "\n",
       "    .dataframe thead th {\n",
       "        text-align: right;\n",
       "    }\n",
       "</style>\n",
       "<table border=\"1\" class=\"dataframe\">\n",
       "  <thead>\n",
       "    <tr style=\"text-align: right;\">\n",
       "      <th></th>\n",
       "      <th>CustomerID</th>\n",
       "      <th>CustomerName</th>\n",
       "      <th>OrderID</th>\n",
       "      <th>Amount</th>\n",
       "    </tr>\n",
       "  </thead>\n",
       "  <tbody>\n",
       "    <tr>\n",
       "      <th>0</th>\n",
       "      <td>1</td>\n",
       "      <td>Alice</td>\n",
       "      <td>101</td>\n",
       "      <td>250</td>\n",
       "    </tr>\n",
       "    <tr>\n",
       "      <th>1</th>\n",
       "      <td>2</td>\n",
       "      <td>Bob</td>\n",
       "      <td>102</td>\n",
       "      <td>400</td>\n",
       "    </tr>\n",
       "    <tr>\n",
       "      <th>2</th>\n",
       "      <td>2</td>\n",
       "      <td>Bob</td>\n",
       "      <td>103</td>\n",
       "      <td>600</td>\n",
       "    </tr>\n",
       "    <tr>\n",
       "      <th>3</th>\n",
       "      <td>4</td>\n",
       "      <td>David</td>\n",
       "      <td>104</td>\n",
       "      <td>150</td>\n",
       "    </tr>\n",
       "  </tbody>\n",
       "</table>\n",
       "</div>"
      ],
      "text/plain": [
       "   CustomerID CustomerName  OrderID  Amount\n",
       "0           1        Alice      101     250\n",
       "1           2          Bob      102     400\n",
       "2           2          Bob      103     600\n",
       "3           4        David      104     150"
      ]
     },
     "execution_count": 97,
     "metadata": {},
     "output_type": "execute_result"
    }
   ],
   "source": [
    "customers = pd.DataFrame({\n",
    "    \"CustomerID\": [1, 2, 3, 4],\n",
    "    \"CustomerName\": [\"Alice\", \"Bob\", \"Charlie\", \"David\"]\n",
    "})\n",
    "\n",
    "orders = pd.DataFrame({\n",
    "    \"OrderID\": [101, 102, 103, 104],\n",
    "    \"CustomerID\": [1, 2, 2, 4],\n",
    "    \"Amount\": [250, 400, 600, 150]\n",
    "})\n",
    "\n",
    "\n",
    "merged_df = pd.merge(customers, orders, on = \"CustomerID\", how = \"inner\")\n",
    "\n",
    "merged_df"
   ]
  },
  {
   "cell_type": "code",
   "execution_count": null,
   "id": "fec43fdc-065c-49f3-bf4d-145368b95c1d",
   "metadata": {},
   "outputs": [],
   "source": [
    "# Joining - Left Join Employee Data"
   ]
  },
  {
   "cell_type": "code",
   "execution_count": 5,
   "id": "a38a3471-85ec-4100-be33-067801cb26b3",
   "metadata": {},
   "outputs": [
    {
     "name": "stdout",
     "output_type": "stream",
     "text": [
      "   EmpID EmpName  DeptID\n",
      "0    101    John       1\n",
      "1    102    Jane       2\n",
      "2    103   Alice       2\n",
      "3    104     Bob       3    DeptID DeptName\n",
      "0       1       HR\n",
      "1       2  Finance\n"
     ]
    },
    {
     "data": {
      "text/html": [
       "<div>\n",
       "<style scoped>\n",
       "    .dataframe tbody tr th:only-of-type {\n",
       "        vertical-align: middle;\n",
       "    }\n",
       "\n",
       "    .dataframe tbody tr th {\n",
       "        vertical-align: top;\n",
       "    }\n",
       "\n",
       "    .dataframe thead th {\n",
       "        text-align: right;\n",
       "    }\n",
       "</style>\n",
       "<table border=\"1\" class=\"dataframe\">\n",
       "  <thead>\n",
       "    <tr style=\"text-align: right;\">\n",
       "      <th></th>\n",
       "      <th>EmpID</th>\n",
       "      <th>EmpName</th>\n",
       "      <th>DeptID</th>\n",
       "      <th>DeptName</th>\n",
       "    </tr>\n",
       "  </thead>\n",
       "  <tbody>\n",
       "    <tr>\n",
       "      <th>0</th>\n",
       "      <td>101</td>\n",
       "      <td>John</td>\n",
       "      <td>1</td>\n",
       "      <td>HR</td>\n",
       "    </tr>\n",
       "    <tr>\n",
       "      <th>1</th>\n",
       "      <td>102</td>\n",
       "      <td>Jane</td>\n",
       "      <td>2</td>\n",
       "      <td>Finance</td>\n",
       "    </tr>\n",
       "    <tr>\n",
       "      <th>2</th>\n",
       "      <td>103</td>\n",
       "      <td>Alice</td>\n",
       "      <td>2</td>\n",
       "      <td>Finance</td>\n",
       "    </tr>\n",
       "    <tr>\n",
       "      <th>3</th>\n",
       "      <td>104</td>\n",
       "      <td>Bob</td>\n",
       "      <td>3</td>\n",
       "      <td>NaN</td>\n",
       "    </tr>\n",
       "  </tbody>\n",
       "</table>\n",
       "</div>"
      ],
      "text/plain": [
       "   EmpID EmpName  DeptID DeptName\n",
       "0    101    John       1       HR\n",
       "1    102    Jane       2  Finance\n",
       "2    103   Alice       2  Finance\n",
       "3    104     Bob       3      NaN"
      ]
     },
     "execution_count": 5,
     "metadata": {},
     "output_type": "execute_result"
    }
   ],
   "source": [
    "# NB: No test for this. Just an exercise for you to play around with\n",
    "employees = pd.DataFrame({\n",
    "    \"EmpID\": [101, 102, 103, 104],\n",
    "    \"EmpName\": [\"John\", \"Jane\", \"Alice\", \"Bob\"],\n",
    "    \"DeptID\": [1, 2, 2, 3]\n",
    "})\n",
    "\n",
    "departments = pd.DataFrame({\n",
    "    \"DeptID\": [1, 2],\n",
    "    \"DeptName\": [\"HR\", \"Finance\"]\n",
    "})\n",
    "\n",
    "print(employees, departments)\n",
    "merged_df = pd.merge(employees, departments, on=\"DeptID\", how=\"left\")\n",
    "merged_df"
   ]
  },
  {
   "cell_type": "markdown",
   "id": "b7d519a1-beb0-47e6-b906-d6b46002e30f",
   "metadata": {},
   "source": [
    "### Pivot Table - Summarize Sales Data"
   ]
  },
  {
   "cell_type": "code",
   "execution_count": null,
   "id": "0eca587c-c334-42a9-a60e-1d1eabafe33b",
   "metadata": {},
   "outputs": [],
   "source": [
    "## Create a pivot table showing total sales for each Region and Product"
   ]
  },
  {
   "cell_type": "code",
   "execution_count": 110,
   "id": "a2be0e5e-634b-430e-9c5b-17053a01a101",
   "metadata": {},
   "outputs": [
    {
     "data": {
      "text/html": [
       "<div>\n",
       "<style scoped>\n",
       "    .dataframe tbody tr th:only-of-type {\n",
       "        vertical-align: middle;\n",
       "    }\n",
       "\n",
       "    .dataframe tbody tr th {\n",
       "        vertical-align: top;\n",
       "    }\n",
       "\n",
       "    .dataframe thead th {\n",
       "        text-align: right;\n",
       "    }\n",
       "</style>\n",
       "<table border=\"1\" class=\"dataframe\">\n",
       "  <thead>\n",
       "    <tr style=\"text-align: right;\">\n",
       "      <th>Product</th>\n",
       "      <th>A</th>\n",
       "      <th>B</th>\n",
       "    </tr>\n",
       "    <tr>\n",
       "      <th>Region</th>\n",
       "      <th></th>\n",
       "      <th></th>\n",
       "    </tr>\n",
       "  </thead>\n",
       "  <tbody>\n",
       "    <tr>\n",
       "      <th>North</th>\n",
       "      <td>200</td>\n",
       "      <td>300</td>\n",
       "    </tr>\n",
       "    <tr>\n",
       "      <th>South</th>\n",
       "      <td>150</td>\n",
       "      <td>400</td>\n",
       "    </tr>\n",
       "    <tr>\n",
       "      <th>West</th>\n",
       "      <td>250</td>\n",
       "      <td>500</td>\n",
       "    </tr>\n",
       "  </tbody>\n",
       "</table>\n",
       "</div>"
      ],
      "text/plain": [
       "Product    A    B\n",
       "Region           \n",
       "North    200  300\n",
       "South    150  400\n",
       "West     250  500"
      ]
     },
     "execution_count": 110,
     "metadata": {},
     "output_type": "execute_result"
    }
   ],
   "source": [
    "sales_pivot_data = pd.DataFrame({\n",
    "    \"Region\": [\"North\", \"North\", \"South\", \"South\", \"West\", \"West\"],\n",
    "    \"Product\": [\"A\", \"B\", \"A\", \"B\", \"A\", \"B\"],\n",
    "    \"Sales\": [200, 300, 150, 400, 250, 500]\n",
    "})\n",
    "sales_pivot = sales_pivot_data.pivot_table(values=\"Sales\", index=\"Region\", columns=\"Product\", aggfunc=\"sum\")\n",
    "\n",
    "sales_pivot_data\n",
    "sales_pivot"
   ]
  },
  {
   "cell_type": "code",
   "execution_count": null,
   "id": "a423e4cb-690d-4d1c-8a65-c991439a9002",
   "metadata": {},
   "outputs": [],
   "source": []
  }
 ],
 "metadata": {
  "kernelspec": {
   "display_name": "Python [conda env:base] *",
   "language": "python",
   "name": "conda-base-py"
  },
  "language_info": {
   "codemirror_mode": {
    "name": "ipython",
    "version": 3
   },
   "file_extension": ".py",
   "mimetype": "text/x-python",
   "name": "python",
   "nbconvert_exporter": "python",
   "pygments_lexer": "ipython3",
   "version": "3.12.7"
  }
 },
 "nbformat": 4,
 "nbformat_minor": 5
}
